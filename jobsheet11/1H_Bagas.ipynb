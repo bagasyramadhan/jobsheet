{
 "cells": [
  {
   "cell_type": "markdown",
   "metadata": {},
   "source": [
    "# JOBSHEET 11. ARRAY 2"
   ]
  },
  {
   "cell_type": "markdown",
   "metadata": {},
   "source": [
    "## Tujuan\n",
    "* Mahasiswa mampu memahami pembuatan array dua dimensi\n",
    "* Mahasiswa mampu menyelesaikan studi kasus dengan memanfaatkan array dua dimensi"
   ]
  },
  {
   "cell_type": "markdown",
   "metadata": {},
   "source": [
    "## Alat dan Bahan\n",
    "* PC/Laptop\n",
    "* Browser\n",
    "* Koneksi internet\n",
    "* Anaconda3 + Java kernel (opsional)"
   ]
  },
  {
   "cell_type": "markdown",
   "metadata": {},
   "source": [
    "## Praktikum"
   ]
  },
  {
   "cell_type": "markdown",
   "metadata": {},
   "source": [
    "### Percobaan 1: Deklarasi, Inisialisasi, dan Menampilkan Array 2 Dimensi\n",
    "Pada Percobaan 1, kode program yang dibuat digunakan untuk menyimpan nilai praktikum dari 2 orang mahasiswa pada 3 mata kuliah yang berbeda.\n",
    "1.\tBuat array bertipe **integer** dengan nama **nilai** dengan kapasitas baris 2 elemen (menyatakan jumlah mahasiswa) dan kolom 3 elemen (menyatakan jumlah mata kuliah)\n",
    "![Gambar 1](images/percobaan1-1.PNG)"
   ]
  },
  {
   "cell_type": "code",
   "execution_count": 2,
   "metadata": {},
   "outputs": [],
   "source": [
    "// Tuliskan kode program Percobaan 1 Langkah 1\n",
    "int[][] nilai = new int[2][3];"
   ]
  },
  {
   "cell_type": "markdown",
   "metadata": {},
   "source": [
    "2. Isi masing-masing elemen array **nilai** sebagai berikut:\n",
    "![Gambar 2](images/percobaan1-2.PNG)"
   ]
  },
  {
   "cell_type": "code",
   "execution_count": 3,
   "metadata": {},
   "outputs": [
    {
     "data": {
      "text/plain": [
       "67"
      ]
     },
     "execution_count": 3,
     "metadata": {},
     "output_type": "execute_result"
    }
   ],
   "source": [
    "// Tuliskan kode program Percobaan 1 Langkah 2\n",
    "nilai[0][0] = 75;\n",
    "nilai[0][1] = 90;\n",
    "nilai[0][2] = 88;\n",
    "nilai[1][0] = 79;\n",
    "nilai[1][1] = 82;\n",
    "nilai[1][2] = 67;"
   ]
  },
  {
   "cell_type": "markdown",
   "metadata": {},
   "source": [
    "3. Tampilkan semua isi elemen array **nilai**\n",
    "![Gambar 3](images/percobaan1-3.PNG)"
   ]
  },
  {
   "cell_type": "code",
   "execution_count": 4,
   "metadata": {},
   "outputs": [
    {
     "name": "stdout",
     "output_type": "stream",
     "text": [
      "75 90 88\n",
      "79 82 67\n"
     ]
    }
   ],
   "source": [
    "// Tuliskan kode program Percobaan 1 Langkah 2\n",
    "System.out.println(nilai[0][0] + \" \" + nilai[0][1] + \" \" + nilai[0][2]);\n",
    "System.out.println(nilai[1][0] + \" \" + nilai[1][1] + \" \" + nilai[1][2]);"
   ]
  },
  {
   "cell_type": "markdown",
   "metadata": {},
   "source": [
    "#### Pertanyaan\n",
    "1. Apakah pengisian elemen array harus dilakukan secara berurutan mulai dari indeks 0? Jelaskan!"
   ]
  },
  {
   "cell_type": "markdown",
   "metadata": {},
   "source": [
    "menurut saya Tidak, karena pengisian elemen array bisa diinput dari indeks yang kita inginkan, apabila suatu nilai pada index belum terisi maka nilainya akan menjadi kosong atau null"
   ]
  },
  {
   "cell_type": "markdown",
   "metadata": {},
   "source": [
    "2. Lakukan modifikasi pada Percobaan 1 Langkah 3 untuk menampilkan semua isi elemen array **nilai** menggunakan perulangan *for*"
   ]
  },
  {
   "cell_type": "code",
   "execution_count": 5,
   "metadata": {},
   "outputs": [
    {
     "name": "stdout",
     "output_type": "stream",
     "text": [
      "75 90 88 \n",
      "79 82 67 \n"
     ]
    }
   ],
   "source": [
    "// Tuliskan jawaban nomor 2\n",
    "for(int i=0; i<nilai.length; i++){\n",
    "    for(int j=0; j<nilai[0].length; j++){\n",
    "        System.out.print(nilai[i][j] + \" \");\n",
    "    }\n",
    "    \n",
    "    System.out.println(\"\");\n",
    "}"
   ]
  },
  {
   "cell_type": "markdown",
   "metadata": {},
   "source": [
    "### Percobaan 2: Mengisi Elemen Array 2 Dimensi Menggunakan Input Keyboard\n",
    "Pada Percobaan 2, kode program yang dibuat digunakan untuk menyimpan nilai rating restoran yang terdaftar pada aplikasi pemesanan makanan online. Rating diberikan oleh 4 orang pengguna kepada 2 restoran yang terdaftar.\n",
    "1. Import dan deklarasikan Scanner dengan nama **sc**\n",
    "![Gambar 4](images/percobaan2-1.jpg)"
   ]
  },
  {
   "cell_type": "code",
   "execution_count": 6,
   "metadata": {},
   "outputs": [],
   "source": [
    "// Tuliskan kode program Percobaan 2 Langkah 1\n",
    "import java.util.Scanner;\n",
    "Scanner sc = new Scanner(System.in);"
   ]
  },
  {
   "cell_type": "markdown",
   "metadata": {},
   "source": [
    "2.\tBuat array bertipe **integer** dengan nama **rating** dengan kapasitas baris 4 elemen (menyatakan jumlah pengguna) dan kolom 2 elemen (menyatakan jumlah restoran)\n",
    "![Gambar 5](images/percobaan2-2.PNG)"
   ]
  },
  {
   "cell_type": "code",
   "execution_count": 7,
   "metadata": {},
   "outputs": [],
   "source": [
    "// Tuliskan kode program Percobaan 2 Langkah 2\n",
    "int [][] rating = new int[4][2];"
   ]
  },
  {
   "cell_type": "markdown",
   "metadata": {},
   "source": [
    "3. Dengan menggunakan perulangan *for*, buat input untuk mengisi elemen array **rating**\n",
    "![Gambar 6](images/percobaan2-3.PNG)"
   ]
  },
  {
   "cell_type": "code",
   "execution_count": 9,
   "metadata": {},
   "outputs": [
    {
     "name": "stdout",
     "output_type": "stream",
     "text": [
      "Masukkan rating pengguna 0 untuk restoran 0 : 70\n",
      "Masukkan rating pengguna 0 untuk restoran 1 : 80\n",
      "\n",
      "Masukkan rating pengguna 1 untuk restoran 0 : 60\n",
      "Masukkan rating pengguna 1 untuk restoran 1 : 50\n",
      "\n",
      "Masukkan rating pengguna 2 untuk restoran 0 : 90\n",
      "Masukkan rating pengguna 2 untuk restoran 1 : 70\n",
      "\n",
      "Masukkan rating pengguna 3 untuk restoran 0 : 80\n",
      "Masukkan rating pengguna 3 untuk restoran 1 : 60\n",
      "\n"
     ]
    }
   ],
   "source": [
    "// Tuliskan kode program Percobaan 2 Langkah 3\n",
    "for(int i=0; i<rating.length; i++){\n",
    "    for(int j=0; j<rating[0].length; j++){\n",
    "        System.out.print(\"Masukkan rating pengguna \" + i + \" untuk restoran \" + j + \" : \");\n",
    "        rating[i][j] = sc.nextInt();\n",
    "    }\n",
    "    System.out.println(\"\");\n",
    "}"
   ]
  },
  {
   "cell_type": "markdown",
   "metadata": {},
   "source": [
    "4. Dengan menggunakan perulangan *for-each*, tampilkan semua isi elemen dari array **rating**\n",
    "![Gambar 7](images/percobaan2-4.PNG)"
   ]
  },
  {
   "cell_type": "code",
   "execution_count": 10,
   "metadata": {},
   "outputs": [
    {
     "name": "stdout",
     "output_type": "stream",
     "text": [
      "70 80 \n",
      "60 50 \n",
      "90 70 \n",
      "80 60 \n"
     ]
    }
   ],
   "source": [
    "// Tuliskan kode program Percobaan 2 Langkah 4\n",
    "for(int[] rtg : rating){\n",
    "    for(int r : rtg){\n",
    "        System.out.print(r + \" \");\n",
    "    }\n",
    "    System.out.println(\"\");\n",
    "}"
   ]
  },
  {
   "cell_type": "markdown",
   "metadata": {},
   "source": [
    "#### Pertanyaan\n",
    "1. Pada Percobaan 2 Langkah 3, dapatkah posisi i ditukar dengan posisi j? Jelaskan alasannya!"
   ]
  },
  {
   "cell_type": "markdown",
   "metadata": {},
   "source": [
    "jawaban nomor 1\n",
    "\n",
    "jika langsung ditukar maka tidak bisa, karena jika panjang baris atau kolom yang lebih kecil dipaksakan dengan nilai indeks yang lebih besar akan terjadi error (out of bond)"
   ]
  },
  {
   "cell_type": "markdown",
   "metadata": {},
   "source": [
    "2. Tambahkan kode program untuk menentukan banyaknya baris dan kolom elemen array secara dinamis (baris dan kolom ditentukan saat program berjalan melalui input keyboard)!"
   ]
  },
  {
   "cell_type": "code",
   "execution_count": 12,
   "metadata": {},
   "outputs": [
    {
     "name": "stdout",
     "output_type": "stream",
     "text": [
      "Masukkan baris yang disediakan : 2\n",
      "Masukkan kolom yang disediakan : 3\n",
      "Masukkan rating pengguna 0 untuk restoran 0 : 20\n",
      "Masukkan rating pengguna 0 untuk restoran 1 : 70\n",
      "Masukkan rating pengguna 0 untuk restoran 2 : 60\n",
      "\n",
      "Masukkan rating pengguna 1 untuk restoran 0 : 59\n",
      "Masukkan rating pengguna 1 untuk restoran 1 : 70\n",
      "Masukkan rating pengguna 1 untuk restoran 2 : 80\n",
      "\n",
      "20 70 60 \n",
      "59 70 80 \n"
     ]
    }
   ],
   "source": [
    "// Tuliskan jawaban nomor 2\n",
    "import java.util.Scanner;\n",
    "\n",
    "Scanner input = new Scanner(System.in);\n",
    "int baris;\n",
    "int kolom; \n",
    "System.out.print(\"Masukkan baris yang disediakan : \");\n",
    "baris = input.nextInt();\n",
    "System.out.print(\"Masukkan kolom yang disediakan : \");\n",
    "kolom = input.nextInt();\n",
    "\n",
    "int[][] rating = new int[baris][kolom];\n",
    "\n",
    "for(int i=0; i<rating.length; i++) {\n",
    "    for(int j=0; j<rating[0].length; j++){\n",
    "        System.out.print(\"Masukkan rating pengguna \" + i + \" untuk restoran \" + j + \" : \");\n",
    "        rating[i][j] = input.nextInt();\n",
    "    }\n",
    "    \n",
    "    System.out.println(\"\");\n",
    "}\n",
    "\n",
    "for(int[] rtg : rating) {\n",
    "    for(int r : rtg){\n",
    "        \n",
    "        System.out.print(r + \" \");\n",
    "    }\n",
    "    \n",
    "    System.out.println(\"\");\n",
    "}"
   ]
  },
  {
   "cell_type": "markdown",
   "metadata": {},
   "source": [
    "### Percobaan 3: Melakukan Operasi Aritmatika pada Elemen Array 2 Dimensi\n",
    "Pada Percobaan 3, kode program yang dibuat digunakan untuk menghitung nilai rata-rata harga setiap bahan pokok selama 1 semester. Terdapat 3 bahan pokok yang dicatat harganya setiap akhir bulan. Program dibuat berdasarkan flowchart berikut.\n",
    "![Gambar 8](images/percobaan3.jpg)\n",
    "1. Import dan deklarasikan Scanner dengan nama **sc**\n",
    "![Gambar 9](images/percobaan3-1.jpg)"
   ]
  },
  {
   "cell_type": "code",
   "execution_count": 2,
   "metadata": {},
   "outputs": [],
   "source": [
    "// Tuliskan kode program Percobaan 3 Langkah 1\n",
    "import java.util.Scanner;\n",
    "Scanner sc = new Scanner(System.in);"
   ]
  },
  {
   "cell_type": "markdown",
   "metadata": {},
   "source": [
    "2.\tBuat array bertipe **integer** dengan nama **harga** dengan kapasitas baris 3 elemen (menyatakan jumlah bahan pokok) dan kolom 6 elemen (menyatakan jumlah bulan). Deklarasikan juga variabel **total** dan **rata** bertipe **double**\n",
    "![Gambar 10](images/percobaan3-2.PNG)"
   ]
  },
  {
   "cell_type": "code",
   "execution_count": 3,
   "metadata": {},
   "outputs": [],
   "source": [
    "// Tuliskan kode program Percobaan 3 Langkah 2\n",
    "int[][] harga = new int[3][6];\n",
    "double total, rata;"
   ]
  },
  {
   "cell_type": "markdown",
   "metadata": {},
   "source": [
    "3. Dengan menggunakan perulangan *for*, buat input untuk mengisi elemen array **harga**. Kemudian, perhitungan total harga dilakukan untuk setiap bulan (kolom) pada setiap bahan pokok (baris). Setelah itu, nilai rata-rata dihitung untuk setiap bahan pokok (tiap satu baris) dan ditampilkan\n",
    "![Gambar 11](images/percobaan3-3.PNG)"
   ]
  },
  {
   "cell_type": "code",
   "execution_count": 6,
   "metadata": {
    "scrolled": false
   },
   "outputs": [
    {
     "name": "stdout",
     "output_type": "stream",
     "text": [
      "Masukkan harga[0][0] : 6000\n",
      "Masukkan harga[0][1] : 5000\n",
      "Masukkan harga[0][2] : 3000\n",
      "Masukkan harga[0][3] : 30000\n",
      "Masukkan harga[0][4] : 10000\n",
      "Masukkan harga[0][5] : 40000\n",
      "Rata-rata harga bahan ke-0 adalah 15666.67\n",
      "Masukkan harga[1][0] : 4500\n",
      "Masukkan harga[1][1] : 5000\n",
      "Masukkan harga[1][2] : 39999\n",
      "Masukkan harga[1][3] : 5000\n",
      "Masukkan harga[1][4] : 3999\n",
      "Masukkan harga[1][5] : 6000\n",
      "Rata-rata harga bahan ke-1 adalah 10749.67\n",
      "Masukkan harga[2][0] : 10000\n",
      "Masukkan harga[2][1] : 2000\n",
      "Masukkan harga[2][2] : 3000\n",
      "Masukkan harga[2][3] : 4000\n",
      "Masukkan harga[2][4] : 3000\n",
      "Masukkan harga[2][5] : 3000\n",
      "Rata-rata harga bahan ke-2 adalah 4166.67\n"
     ]
    }
   ],
   "source": [
    "// Tuliskan kode program Percobaan 3 Langkah 3\n",
    "for(int i = 0; i < harga.length; i++){\n",
    "    total = 0;\n",
    "    rata = 0;\n",
    "    for(int j=0; j < harga[0].length; j++){\n",
    "        System.out.printf(\"Masukkan harga[%d][%d] : \", i, j);\n",
    "        harga[i][j] = sc.nextInt();\n",
    "        total += harga[i][j];\n",
    "    }\n",
    "    rata = total / harga[0].length;\n",
    "    System.out.printf(\"Rata-rata harga bahan ke-%d adalah %.2f\\n\", i, rata);\n",
    "}"
   ]
  },
  {
   "cell_type": "markdown",
   "metadata": {},
   "source": [
    "### Pertanyaan\n",
    "1. Jelaskan fungsi dari **rata = total / harga[0].length**!"
   ]
  },
  {
   "cell_type": "markdown",
   "metadata": {},
   "source": [
    "jawaban nomor 1\n",
    "\n",
    "untuk menghitung harga rata-rata tiap bahan, dengan membagi total inputan harga dengan jumlah inputan harga bahan"
   ]
  },
  {
   "cell_type": "markdown",
   "metadata": {},
   "source": [
    "2. Mengapa insialisasi variabel **total = 0** dan **rata = 0** berada di dalam perulangan *for* yang pertama? Menurut Anda, apa yang terjadi jika inisialisasi kedua variabel tersebut diletakkan di luar perulangan *for* (setelah deklarasi array)?"
   ]
  },
  {
   "cell_type": "markdown",
   "metadata": {},
   "source": [
    "jawaban nomor 2\n",
    "\n",
    "Karena jika berada di luar perulangan maka total dan rata-rata dari baris sebelumnya akan ikut terhitung. seharusnya mulai dari 0 lagi"
   ]
  },
  {
   "cell_type": "markdown",
   "metadata": {},
   "source": [
    "## Tugas"
   ]
  },
  {
   "cell_type": "markdown",
   "metadata": {},
   "source": [
    "1. Perhatikan flowchart berikut.\n",
    "![Gambar 12](images/tugas-1.jpg)\n",
    "Buat kode program sesuai dengan flowchart tersebut untuk mencari suhu tertinggi yang dicatat dari 5 kota di Jepang selama 7 hari berturut-turut!"
   ]
  },
  {
   "cell_type": "code",
   "execution_count": 1,
   "metadata": {},
   "outputs": [
    {
     "name": "stdout",
     "output_type": "stream",
     "text": [
      "Masukkan suhu kota [1] hari ke [1]: 20\n",
      "Masukkan suhu kota [1] hari ke [2]: 30\n",
      "Masukkan suhu kota [1] hari ke [3]: 10\n",
      "Masukkan suhu kota [1] hari ke [4]: 15\n",
      "Masukkan suhu kota [1] hari ke [5]: 27\n",
      "Masukkan suhu kota [1] hari ke [6]: 39\n",
      "Masukkan suhu kota [1] hari ke [7]: 49\n",
      "Suhu tertinggi adalah 49.00\n",
      "Masukkan suhu kota [2] hari ke [1]: 38\n",
      "Masukkan suhu kota [2] hari ke [2]: 28\n",
      "Masukkan suhu kota [2] hari ke [3]: 28\n",
      "Masukkan suhu kota [2] hari ke [4]: 26\n",
      "Masukkan suhu kota [2] hari ke [5]: 29\n",
      "Masukkan suhu kota [2] hari ke [6]: 10\n",
      "Masukkan suhu kota [2] hari ke [7]: 18\n",
      "Suhu tertinggi adalah 38.00\n",
      "Masukkan suhu kota [3] hari ke [1]: 19\n",
      "Masukkan suhu kota [3] hari ke [2]: 10\n",
      "Masukkan suhu kota [3] hari ke [3]: 20\n",
      "Masukkan suhu kota [3] hari ke [4]: 28\n",
      "Masukkan suhu kota [3] hari ke [5]: 27\n",
      "Masukkan suhu kota [3] hari ke [6]: 26\n",
      "Masukkan suhu kota [3] hari ke [7]: 24\n",
      "Suhu tertinggi adalah 28.00\n",
      "Masukkan suhu kota [4] hari ke [1]: 23\n",
      "Masukkan suhu kota [4] hari ke [2]: 23\n",
      "Masukkan suhu kota [4] hari ke [3]: 24\n",
      "Masukkan suhu kota [4] hari ke [4]: 24\n",
      "Masukkan suhu kota [4] hari ke [5]: 25\n",
      "Masukkan suhu kota [4] hari ke [6]: 26\n",
      "Masukkan suhu kota [4] hari ke [7]: 27\n",
      "Suhu tertinggi adalah 27.00\n",
      "Masukkan suhu kota [5] hari ke [1]: 22\n",
      "Masukkan suhu kota [5] hari ke [2]: 23\n",
      "Masukkan suhu kota [5] hari ke [3]: 21\n",
      "Masukkan suhu kota [5] hari ke [4]: 20\n",
      "Masukkan suhu kota [5] hari ke [5]: 11\n",
      "Masukkan suhu kota [5] hari ke [6]: 18\n",
      "Masukkan suhu kota [5] hari ke [7]: 39\n",
      "Suhu tertinggi adalah 39.00\n"
     ]
    }
   ],
   "source": [
    "// Tuliskan jawaban nomor 1\n",
    "import java.util.Scanner;\n",
    "Scanner in = new Scanner(System.in);\n",
    "double suhu[][] = new double[5][7];\n",
    "int x, y;\n",
    "double max = 0;\n",
    "for (x = 0; x < suhu.length; x++){\n",
    "    for (y = 0; y < suhu[0].length; y++){\n",
    "        System.out.printf(\"Masukkan suhu kota [%d] hari ke [%d]: \",x+1 , y+1);\n",
    "        suhu[x][y] = in.nextInt();\n",
    "        if(suhu[x][y] > max){\n",
    "            max = suhu[x][y];\n",
    "        }\n",
    "    }\n",
    "    System.out.printf(\"Suhu tertinggi adalah %.2f\\n\", max);\n",
    "    max = 0;\n",
    "}"
   ]
  },
  {
   "cell_type": "markdown",
   "metadata": {},
   "source": [
    "2. Terdapat hasil pencatatan data lima mahasiswa yang berisi informasi mengenai umur, berat badan (kg), dan tinggi badan (cm). Data tersebut disimpan ke dalam array dua dimensi.\n",
    "![Gambar 13](images/tugas-2.PNG)\n",
    "*Keterangan: penyimpanan nilai dapat dilakukan melalui inisialisasi menggunakan operator assignment*\n",
    " * Tampilkan *berat badan terendah* di antara kelima mahasiswa tersebut\n",
    " * Tampilkan *rata-rata tinggi badan* dari kelima mahasiswa tersebut\n",
    " * Tampilkan nama mahasiswa dengan *umur tertua* di antara kelima mahasiswa tersebut"
   ]
  },
  {
   "cell_type": "code",
   "execution_count": 2,
   "metadata": {},
   "outputs": [
    {
     "name": "stdout",
     "output_type": "stream",
     "text": [
      "Berat badan terendah adalah 45 kg\n",
      "Rata-rata tinggi badan adalah 263.00\n",
      "Mahasiswa tertua ialah : Beky"
     ]
    }
   ],
   "source": [
    "// Tuliskan jawaban nomor 2\n",
    "import java.util.Scanner;\n",
    "Scanner in = new Scanner(System.in);\n",
    "String nama[] = {\"Desi\", \"Rofan\", \"Lala\", \"Beky\", \"Ega\"};\n",
    "int data[][] = {\n",
    "    {19, 51, 155},\n",
    "    {18, 55, 163},\n",
    "    {18, 45, 153},\n",
    "    {20, 46, 158},\n",
    "    {19, 58, 160}\n",
    "};\n",
    "int min = 100, tertua = 0;\n",
    "String nTua;\n",
    "double rata, total;\n",
    "for (int a = 0; a < data.length; a++){\n",
    "    for (int b = 1; b < data[0].length-1; b++){\n",
    "        if(data[a][b] < min){\n",
    "            min = data[a][b];\n",
    "        }\n",
    "        if(data[a][0] > tertua){\n",
    "            tertua = data[a][0];\n",
    "            nTua = nama[a];\n",
    "        }\n",
    "    }\n",
    "    total += data[a][2];\n",
    "}\n",
    "System.out.printf(\"Berat badan terendah adalah %d kg\\n\", min);\n",
    "rata = total / data[0].length;\n",
    "System.out.printf(\"Rata-rata tinggi badan adalah %.2f\\n\", rata);\n",
    "System.out.print(\"Mahasiswa tertua ialah : \" + nTua);"
   ]
  },
  {
   "cell_type": "code",
   "execution_count": null,
   "metadata": {},
   "outputs": [],
   "source": []
  }
 ],
 "metadata": {
  "kernelspec": {
   "display_name": "Java",
   "language": "java",
   "name": "java"
  },
  "language_info": {
   "codemirror_mode": "java",
   "file_extension": ".jshell",
   "mimetype": "text/x-java-source",
   "name": "Java",
   "pygments_lexer": "java",
   "version": "11.0.12+8-LTS-237"
  }
 },
 "nbformat": 4,
 "nbformat_minor": 4
}
